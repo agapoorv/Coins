{
 "cells": [
  {
   "cell_type": "markdown",
   "metadata": {
    "toc": "true"
   },
   "source": [
    "# Table of Contents\n",
    " <p><div class=\"lev2 toc-item\"><a href=\"#bitrex-code-wip\" data-toc-modified-id=\"bitrex-code-wip-01\"><span class=\"toc-item-num\">0.1&nbsp;&nbsp;</span>bitrex code wip</a></div>"
   ]
  },
  {
   "cell_type": "code",
   "execution_count": 17,
   "metadata": {
    "collapsed": true
   },
   "outputs": [],
   "source": [
    "import json\n",
    "import hmac\n",
    "import time\n",
    "import base64\n",
    "import hashlib\n",
    "import requests\n",
    "import pandas as pd\n",
    "from requests.auth import AuthBase"
   ]
  },
  {
   "cell_type": "code",
   "execution_count": 18,
   "metadata": {
    "collapsed": true
   },
   "outputs": [],
   "source": [
    "import urllib3"
   ]
  },
  {
   "cell_type": "code",
   "execution_count": 19,
   "metadata": {},
   "outputs": [],
   "source": [
    "api_cred = pd.read_json(\"../API_KEYS/api_keys.json\", orient= \"index\")\n",
    "api_url = pd.read_json(\"../API_KEYS/api_url.json\", orient= \"index\")"
   ]
  },
  {
   "cell_type": "code",
   "execution_count": 20,
   "metadata": {
    "collapsed": true
   },
   "outputs": [],
   "source": [
    "api_url_gdax = api_url.loc[\"GDAX\"].URL"
   ]
  },
  {
   "cell_type": "code",
   "execution_count": 21,
   "metadata": {
    "collapsed": true
   },
   "outputs": [],
   "source": [
    "# Create custom authentication for Exchange\n",
    "class CoinbaseExchangeAuth(AuthBase):\n",
    "    def __init__(self, exchange):\n",
    "        self.api_key = api_cred.loc[exchange].KEY\n",
    "        self.secret_key = api_cred.loc[exchange].SECRET\n",
    "        self.passphrase = api_cred.loc[exchange].PASSPHRASE\n",
    "\n",
    "    def __call__(self, request):\n",
    "        timestamp = str(time.time())\n",
    "        message = timestamp + request.method + request.path_url + (request.body or '')\n",
    "        hmac_key = base64.b64decode(self.secret_key)\n",
    "        signature = hmac.new(hmac_key, message.encode('utf-8'), hashlib.sha256)\n",
    "        digest = signature.digest()\n",
    "        signature_b64 = base64.b64encode(digest).decode('utf-8').rstrip('\\n')\n",
    "\n",
    "        request.headers.update({\n",
    "            'CB-ACCESS-SIGN': signature_b64,\n",
    "            'CB-ACCESS-TIMESTAMP': timestamp,\n",
    "            'CB-ACCESS-KEY': self.api_key,\n",
    "            'CB-ACCESS-PASSPHRASE': self.passphrase,\n",
    "            'Content-Type': 'application/json'\n",
    "        })\n",
    "        return request"
   ]
  },
  {
   "cell_type": "code",
   "execution_count": 22,
   "metadata": {},
   "outputs": [
    {
     "data": {
      "text/plain": [
       "<__main__.CoinbaseExchangeAuth at 0x256186fd518>"
      ]
     },
     "execution_count": 22,
     "metadata": {},
     "output_type": "execute_result"
    }
   ],
   "source": [
    "auth = CoinbaseExchangeAuth(exchange=\"GDAX\")\n",
    "auth"
   ]
  },
  {
   "cell_type": "code",
   "execution_count": 23,
   "metadata": {},
   "outputs": [
    {
     "data": {
      "text/html": [
       "<div>\n",
       "<style>\n",
       "    .dataframe thead tr:only-child th {\n",
       "        text-align: right;\n",
       "    }\n",
       "\n",
       "    .dataframe thead th {\n",
       "        text-align: left;\n",
       "    }\n",
       "\n",
       "    .dataframe tbody tr th {\n",
       "        vertical-align: top;\n",
       "    }\n",
       "</style>\n",
       "<table border=\"1\" class=\"dataframe\">\n",
       "  <thead>\n",
       "    <tr style=\"text-align: right;\">\n",
       "      <th></th>\n",
       "      <th>available</th>\n",
       "      <th>balance</th>\n",
       "      <th>currency</th>\n",
       "      <th>hold</th>\n",
       "      <th>id</th>\n",
       "      <th>profile_id</th>\n",
       "    </tr>\n",
       "  </thead>\n",
       "  <tbody>\n",
       "    <tr>\n",
       "      <th>0</th>\n",
       "      <td>0.0000287411936000</td>\n",
       "      <td>0.0000287411936000</td>\n",
       "      <td>USD</td>\n",
       "      <td>0.0000000000000000</td>\n",
       "      <td>2fb55e27-276a-4f99-b2b7-127729949d1c</td>\n",
       "      <td>6c33d3ef-deba-4eab-8e2c-d6213b4c100d</td>\n",
       "    </tr>\n",
       "    <tr>\n",
       "      <th>1</th>\n",
       "      <td>21.2566732700000000</td>\n",
       "      <td>21.2566732700000000</td>\n",
       "      <td>LTC</td>\n",
       "      <td>0.0000000000000000</td>\n",
       "      <td>2f00df30-58fa-42c9-85ff-1c81bd48198e</td>\n",
       "      <td>6c33d3ef-deba-4eab-8e2c-d6213b4c100d</td>\n",
       "    </tr>\n",
       "    <tr>\n",
       "      <th>2</th>\n",
       "      <td>1.6841936700000000</td>\n",
       "      <td>1.6841936700000000</td>\n",
       "      <td>ETH</td>\n",
       "      <td>0.0000000000000000</td>\n",
       "      <td>a71932e3-66cd-41d4-bb6f-010e061fb44a</td>\n",
       "      <td>6c33d3ef-deba-4eab-8e2c-d6213b4c100d</td>\n",
       "    </tr>\n",
       "    <tr>\n",
       "      <th>3</th>\n",
       "      <td>0.2405942600000000</td>\n",
       "      <td>0.2405942600000000</td>\n",
       "      <td>BTC</td>\n",
       "      <td>0.0000000000000000</td>\n",
       "      <td>1205713f-4d84-46e1-b385-12e268600193</td>\n",
       "      <td>6c33d3ef-deba-4eab-8e2c-d6213b4c100d</td>\n",
       "    </tr>\n",
       "  </tbody>\n",
       "</table>\n",
       "</div>"
      ],
      "text/plain": [
       "             available              balance currency                hold  \\\n",
       "0   0.0000287411936000   0.0000287411936000      USD  0.0000000000000000   \n",
       "1  21.2566732700000000  21.2566732700000000      LTC  0.0000000000000000   \n",
       "2   1.6841936700000000   1.6841936700000000      ETH  0.0000000000000000   \n",
       "3   0.2405942600000000   0.2405942600000000      BTC  0.0000000000000000   \n",
       "\n",
       "                                     id                            profile_id  \n",
       "0  2fb55e27-276a-4f99-b2b7-127729949d1c  6c33d3ef-deba-4eab-8e2c-d6213b4c100d  \n",
       "1  2f00df30-58fa-42c9-85ff-1c81bd48198e  6c33d3ef-deba-4eab-8e2c-d6213b4c100d  \n",
       "2  a71932e3-66cd-41d4-bb6f-010e061fb44a  6c33d3ef-deba-4eab-8e2c-d6213b4c100d  \n",
       "3  1205713f-4d84-46e1-b385-12e268600193  6c33d3ef-deba-4eab-8e2c-d6213b4c100d  "
      ]
     },
     "execution_count": 23,
     "metadata": {},
     "output_type": "execute_result"
    }
   ],
   "source": [
    "# Get accounts\n",
    "balance_data = requests.get(api_url_gdax + 'accounts', auth=auth)\n",
    "balance_data = balance_data.json()\n",
    "balance_data = pd.DataFrame(balance_data)\n",
    "balance_data"
   ]
  },
  {
   "cell_type": "code",
   "execution_count": 24,
   "metadata": {},
   "outputs": [
    {
     "name": "stdout",
     "output_type": "stream",
     "text": [
      "                  amount                balance                   created_at  \\\n",
      "0    -1.4955134531499000     0.0000287411936000  2017-08-20T19:53:52.215691Z   \n",
      "1  -498.5044843833000000     1.4955421943435000  2017-08-20T19:53:52.215691Z   \n",
      "2    -2.4937655197565000   500.0000265776435000  2017-08-20T19:53:33.684975Z   \n",
      "3  -997.5062079026000000   502.4937920974000000  2017-08-20T19:53:33.684975Z   \n",
      "4  1500.0000000000000000  1500.0000000000000000  2017-08-18T14:33:02.342129Z   \n",
      "\n",
      "                                             details         id      type  \n",
      "0  {'order_id': '4d8bbb55-1d30-4b5d-83e6-4b7b12bf...  248785615       fee  \n",
      "1  {'order_id': '4d8bbb55-1d30-4b5d-83e6-4b7b12bf...  248785613     match  \n",
      "2  {'order_id': 'e73e508f-9ebc-4fd7-bf1a-a39edae6...  248785577       fee  \n",
      "3  {'order_id': 'e73e508f-9ebc-4fd7-bf1a-a39edae6...  248785575     match  \n",
      "4  {'transfer_id': 'd7b5c42b-c46b-4441-91fc-6aa95...  247140011  transfer  \n",
      "                amount              balance                  created_at  \\\n",
      "0  21.2566732700000000  21.2566732700000000  2017-08-20T19:54:40.90128Z   \n",
      "\n",
      "                                             details         id      type  \n",
      "0  {'transfer_id': '2c1e4be4-d054-4c50-a03e-775dc...  248785847  transfer  \n",
      "               amount             balance                   created_at  \\\n",
      "0  1.6841936700000000  1.6841936700000000  2017-08-20T19:53:52.215691Z   \n",
      "\n",
      "                                             details         id   type  \n",
      "0  {'order_id': '4d8bbb55-1d30-4b5d-83e6-4b7b12bf...  248785612  match  \n",
      "               amount             balance                   created_at  \\\n",
      "0  0.2405942600000000  0.2405942600000000  2017-08-20T19:53:33.684975Z   \n",
      "\n",
      "                                             details         id   type  \n",
      "0  {'order_id': 'e73e508f-9ebc-4fd7-bf1a-a39edae6...  248785574  match  \n"
     ]
    }
   ],
   "source": [
    "for acct in balance_data.id:\n",
    "    account = 'accounts/'+ acct +'/ledger'\n",
    "    acct_hist = requests.get(api_url_gdax + account, auth=auth)\n",
    "    temp = acct_hist.json()\n",
    "    temp = pd.DataFrame(temp)\n",
    "    temp.replace({r'\\n': ''}, regex=True)\n",
    "    print(temp)"
   ]
  },
  {
   "cell_type": "markdown",
   "metadata": {},
   "source": [
    "## bitrex code wip"
   ]
  },
  {
   "cell_type": "code",
   "execution_count": 25,
   "metadata": {},
   "outputs": [
    {
     "data": {
      "text/plain": [
       "'https://bittrex.com/api/v1.1/%s/'"
      ]
     },
     "execution_count": 25,
     "metadata": {},
     "output_type": "execute_result"
    }
   ],
   "source": [
    "api_url_btrx = api_url.loc[\"BTRX\"].URL\n",
    "api_url_btrx"
   ]
  },
  {
   "cell_type": "code",
   "execution_count": null,
   "metadata": {
    "collapsed": true
   },
   "outputs": [],
   "source": [
    "MARKET_SET = {\n",
    "    'getopenorders',\n",
    "    'cancel',\n",
    "    'sellmarket',\n",
    "    'selllimit',\n",
    "    'buymarket',\n",
    "    'buylimit'\n",
    "}\n",
    "\n",
    "ACCOUNT_SET = {\n",
    "    'getbalances',\n",
    "    'getbalance',\n",
    "    'getdepositaddress',\n",
    "    'withdraw',\n",
    "    'getorderhistory',\n",
    "    'getorder',\n",
    "    'getdeposithistory',\n",
    "    'getwithdrawalhistory'\n",
    "}\n",
    "\n",
    "BUY_ORDERBOOK = 'buy'\n",
    "SELL_ORDERBOOK = 'sell'\n",
    "BOTH_ORDERBOOK = 'both'"
   ]
  },
  {
   "cell_type": "code",
   "execution_count": 26,
   "metadata": {
    "collapsed": true
   },
   "outputs": [],
   "source": [
    "def using_requests(request_url, apisign):\n",
    "    return requests.get(\n",
    "                request_url,\n",
    "                headers={\"apisign\": apisign}\n",
    "            ).json()"
   ]
  },
  {
   "cell_type": "code",
   "execution_count": 32,
   "metadata": {
    "collapsed": true
   },
   "outputs": [],
   "source": [
    "class Bittrex(object):\n",
    "    \"\"\"\n",
    "    Used for requesting Bittrex with API key and API secret\n",
    "    \"\"\"\n",
    "    def __init__(self, exchange):\n",
    "        self.api_key = api_cred.loc[exchange].KEY\n",
    "        self.secret_key = api_cred.loc[exchange].SECRET\n",
    "        self.passphrase = api_cred.loc[exchange].PASSPHRASE\n",
    "#         self.dispatch = dispatch\n",
    "\n",
    "\n",
    "    def api_query(self, method):\n",
    "        \"\"\"\n",
    "        Queries Bittrex with given method and options\n",
    "        :param method: Query method for getting info\n",
    "        :type method: str\n",
    "        :param options: Extra options for query\n",
    "        :type options: dict\n",
    "        :return: JSON response from Bittrex\n",
    "        :rtype : dict\n",
    "        \"\"\"\n",
    "        nonce = str(int(time.time() * 1000))\n",
    "        method_set = 'public'\n",
    "\n",
    "        if method in MARKET_SET:\n",
    "            method_set = 'market'\n",
    "        elif method in ACCOUNT_SET:\n",
    "            method_set = 'account'\n",
    "\n",
    "        request_url = (api_url % method_set) + method + '?'\n",
    "\n",
    "        if method_set != 'public':\n",
    "            request_url += 'apikey=' + self.api_key + \"&nonce=\" + nonce + '&'\n",
    "\n",
    "        apisign = hmac.new(self.api_secret.encode(),\n",
    "                           request_url.encode(),\n",
    "                           hashlib.sha512).hexdigest()\n",
    "        return self.dispatch(request_url, apisign)\n",
    "\n",
    "    def get_markets(self):\n",
    "        \"\"\"\n",
    "        Used to get the open and available trading markets\n",
    "        at Bittrex along with other meta data.\n",
    "        :return: Available market info in JSON\n",
    "        :rtype : dict\n",
    "        \"\"\"\n",
    "        return self.api_query('getmarkets')\n",
    "    \n",
    "    def __call__(self, request):\n",
    "        timestamp = str(time.time())\n",
    "        message = timestamp + request.method + request.path_url + (request.body or '')\n",
    "        hmac_key = base64.b64decode(self.secret_key)\n",
    "        signature = hmac.new(hmac_key, message.encode('utf-8'), hashlib.sha256)\n",
    "        digest = signature.digest()\n",
    "        signature_b64 = base64.b64encode(digest).decode('utf-8').rstrip('\\n')\n",
    "\n",
    "        request.headers.update({\n",
    "            'CB-ACCESS-SIGN': signature_b64,\n",
    "            'CB-ACCESS-TIMESTAMP': timestamp,\n",
    "            'CB-ACCESS-KEY': self.api_key,\n",
    "            'CB-ACCESS-PASSPHRASE': self.passphrase,\n",
    "            'Content-Type': 'application/json'\n",
    "        })\n",
    "        return request"
   ]
  },
  {
   "cell_type": "code",
   "execution_count": 31,
   "metadata": {},
   "outputs": [
    {
     "ename": "SyntaxError",
     "evalue": "invalid syntax (<ipython-input-31-e4509fc9fa03>, line 1)",
     "output_type": "error",
     "traceback": [
      "\u001b[1;36m  File \u001b[1;32m\"<ipython-input-31-e4509fc9fa03>\"\u001b[1;36m, line \u001b[1;32m1\u001b[0m\n\u001b[1;33m    Bittrex.get_balance(self=, \"BTC\")\u001b[0m\n\u001b[1;37m                             ^\u001b[0m\n\u001b[1;31mSyntaxError\u001b[0m\u001b[1;31m:\u001b[0m invalid syntax\n"
     ]
    }
   ],
   "source": [
    "Bittrex.get_balance()"
   ]
  },
  {
   "cell_type": "code",
   "execution_count": 35,
   "metadata": {},
   "outputs": [
    {
     "data": {
      "text/plain": [
       "1503454030.05098"
      ]
     },
     "execution_count": 35,
     "metadata": {},
     "output_type": "execute_result"
    }
   ],
   "source": [
    "time.time()"
   ]
  },
  {
   "cell_type": "code",
   "execution_count": null,
   "metadata": {
    "collapsed": true
   },
   "outputs": [],
   "source": []
  }
 ],
 "metadata": {
  "kernelspec": {
   "display_name": "Python 3",
   "language": "python",
   "name": "python3"
  },
  "language_info": {
   "codemirror_mode": {
    "name": "ipython",
    "version": 3
   },
   "file_extension": ".py",
   "mimetype": "text/x-python",
   "name": "python",
   "nbconvert_exporter": "python",
   "pygments_lexer": "ipython3",
   "version": "3.6.2"
  },
  "toc": {
   "colors": {
    "hover_highlight": "#DAA520",
    "navigate_num": "#000000",
    "navigate_text": "#333333",
    "running_highlight": "#FF0000",
    "selected_highlight": "#FFD700",
    "sidebar_border": "#EEEEEE",
    "wrapper_background": "#FFFFFF"
   },
   "moveMenuLeft": true,
   "nav_menu": {
    "height": "47px",
    "width": "252px"
   },
   "navigate_menu": true,
   "number_sections": true,
   "sideBar": true,
   "threshold": "6",
   "toc_cell": true,
   "toc_section_display": "block",
   "toc_window_display": false,
   "widenNotebook": false
  }
 },
 "nbformat": 4,
 "nbformat_minor": 2
}
