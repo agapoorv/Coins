{
 "cells": [
  {
   "cell_type": "markdown",
   "metadata": {
    "toc": "true"
   },
   "source": [
    "# Table of Contents\n",
    " <p><div class=\"lev2 toc-item\"><a href=\"#bitrex-code-wip\" data-toc-modified-id=\"bitrex-code-wip-01\"><span class=\"toc-item-num\">0.1&nbsp;&nbsp;</span>bitrex code wip</a></div>"
   ]
  },
  {
   "cell_type": "code",
   "execution_count": null,
   "metadata": {
    "collapsed": true
   },
   "outputs": [],
   "source": [
    "import json\n",
    "import hmac\n",
    "import time\n",
    "import base64\n",
    "import urllib3\n",
    "import hashlib\n",
    "import requests\n",
    "import pandas as pd\n",
    "from requests.auth import AuthBase"
   ]
  },
  {
   "cell_type": "code",
   "execution_count": null,
   "metadata": {
    "collapsed": true
   },
   "outputs": [],
   "source": [
    "api_cred = pd.read_json(\"../API_KEYS/api_keys.json\", orient= \"index\")\n",
    "api_url = pd.read_json(\"../API_KEYS/api_url.json\", orient= \"index\")"
   ]
  },
  {
   "cell_type": "markdown",
   "metadata": {},
   "source": [
    "## bitrex code wip"
   ]
  },
  {
   "cell_type": "code",
   "execution_count": null,
   "metadata": {
    "collapsed": true
   },
   "outputs": [],
   "source": [
    "MARKET_SET = {\n",
    "    'getopenorders',\n",
    "    'cancel',\n",
    "    'sellmarket',\n",
    "    'selllimit',\n",
    "    'buymarket',\n",
    "    'buylimit'\n",
    "}\n",
    "\n",
    "ACCOUNT_SET = {\n",
    "    'getbalances',\n",
    "    'getbalance',\n",
    "    'getdepositaddress',\n",
    "    'withdraw',\n",
    "    'getorderhistory',\n",
    "    'getorder',\n",
    "    'getdeposithistory',\n",
    "    'getwithdrawalhistory'\n",
    "}\n",
    "\n",
    "## type \n",
    "\n",
    "BUY_ORDERBOOK = 'buy'\n",
    "SELL_ORDERBOOK = 'sell'\n",
    "BOTH_ORDERBOOK = 'both'"
   ]
  },
  {
   "cell_type": "code",
   "execution_count": null,
   "metadata": {
    "collapsed": true
   },
   "outputs": [],
   "source": [
    "class BTRXExchangeAuth(AuthBase):\n",
    "    \"\"\"\n",
    "    Used for requesting Bittrex with API key and API secret\n",
    "    \"\"\"\n",
    "    def __init__(self, exchange):\n",
    "        self.api_key = api_cred.loc[exchange].KEY\n",
    "        self.secret_key = api_cred.loc[exchange].SECRET\n",
    "        self.passphrase = api_cred.loc[exchange].PASSPHRASE\n",
    "   \n",
    "    def __call__(self, request):\n",
    "#         nonce = str(time.time()) #str(int(time.time() * 1000))       \n",
    "        apikey = self.secret_key\n",
    "        hmac_key = base64.b64decode(apikey)\n",
    "        apisecret = self.secret_key\n",
    "        uri = 'https://bittrex.com/api/v1.1/market/getopenorders?apikey='+apikey+'&'#nonce='+nonce + '&'\n",
    "        signature = hmac.new(hmac_key, uri.encode('utf-8'), hashlib.sha512).hexdigest()\n",
    "        \n",
    "        request.headers.update({\n",
    "            'apisign': signature,\n",
    "            'Content-Type': 'application/json'\n",
    "        })\n",
    "\n",
    "        return request"
   ]
  },
  {
   "cell_type": "code",
   "execution_count": null,
   "metadata": {
    "collapsed": true
   },
   "outputs": [],
   "source": [
    "auth = BTRXExchangeAuth(exchange=\"BTRX\")\n",
    "auth"
   ]
  },
  {
   "cell_type": "code",
   "execution_count": null,
   "metadata": {
    "collapsed": true
   },
   "outputs": [],
   "source": [
    "api_url_btrx = api_url.loc[\"BTRX\"].URL\n",
    "api_url_btrx\n",
    "API_KEY = api_cred.loc[\"BTRX\"].KEY\n",
    "API_KEY\n",
    "nonce = str(time.time())"
   ]
  },
  {
   "cell_type": "code",
   "execution_count": null,
   "metadata": {
    "collapsed": true
   },
   "outputs": [],
   "source": [
    "api_url2 = api_url_btrx + \"account/getbalances?apikey=\"+ API_KEY\n",
    "api_url2"
   ]
  },
  {
   "cell_type": "code",
   "execution_count": null,
   "metadata": {
    "collapsed": true
   },
   "outputs": [],
   "source": [
    "x = requests.get(api_url2, auth=auth)\n",
    "x"
   ]
  },
  {
   "cell_type": "code",
   "execution_count": null,
   "metadata": {
    "collapsed": true
   },
   "outputs": [],
   "source": [
    "# x = x.json()\n",
    "# x = pd.DataFrame(x)\n",
    "x.json()"
   ]
  },
  {
   "cell_type": "markdown",
   "metadata": {},
   "source": [
    "####  Public URL examples  \n",
    "https://bittrex.com/api/v1.1/public/getmarkets  \n",
    "https://bittrex.com/api/v1.1/public/getcurrencies  \n",
    "https://bittrex.com/api/v1.1/public/getticker?market=BTC-LTC   \n",
    "https://bittrex.com/api/v1.1//public/getmarketsummaries   \n",
    "https://bittrex.com/api/v1.1/public/getmarketsummary?market=BTC-LTC  \n",
    "https://bittrex.com/api/v1.1/public/getorderbook?market=BTC-LTC&type=both  \n",
    "https://bittrex.com/api/v1.1/public/getmarkethistory?market=BTC-DOGE    \n",
    "\n",
    "\n"
   ]
  },
  {
   "cell_type": "code",
   "execution_count": null,
   "metadata": {
    "collapsed": true
   },
   "outputs": [],
   "source": []
  }
 ],
 "metadata": {
  "kernelspec": {
   "display_name": "Python 3",
   "language": "python",
   "name": "python3"
  },
  "language_info": {
   "codemirror_mode": {
    "name": "ipython",
    "version": 3
   },
   "file_extension": ".py",
   "mimetype": "text/x-python",
   "name": "python",
   "nbconvert_exporter": "python",
   "pygments_lexer": "ipython3",
   "version": "3.6.2"
  },
  "toc": {
   "colors": {
    "hover_highlight": "#DAA520",
    "navigate_num": "#000000",
    "navigate_text": "#333333",
    "running_highlight": "#FF0000",
    "selected_highlight": "#FFD700",
    "sidebar_border": "#EEEEEE",
    "wrapper_background": "#FFFFFF"
   },
   "moveMenuLeft": true,
   "nav_menu": {
    "height": "47px",
    "width": "252px"
   },
   "navigate_menu": true,
   "number_sections": true,
   "sideBar": true,
   "threshold": "6",
   "toc_cell": true,
   "toc_section_display": "block",
   "toc_window_display": false,
   "widenNotebook": false
  }
 },
 "nbformat": 4,
 "nbformat_minor": 2
}
