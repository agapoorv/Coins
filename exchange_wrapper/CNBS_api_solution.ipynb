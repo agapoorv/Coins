{
 "cells": [
  {
   "cell_type": "code",
   "execution_count": null,
   "metadata": {
    "collapsed": true
   },
   "outputs": [],
   "source": [
    "import json\n",
    "import hmac\n",
    "import time\n",
    "import base64\n",
    "import urllib3\n",
    "import hashlib\n",
    "import requests\n",
    "import pandas as pd\n",
    "from requests.auth import AuthBase"
   ]
  },
  {
   "cell_type": "code",
   "execution_count": null,
   "metadata": {},
   "outputs": [],
   "source": [
    "api_cred = pd.read_json(\"../API_KEYS/api_keys.json\", orient= \"index\")\n",
    "api_url = pd.read_json(\"../API_KEYS/api_url.json\", orient= \"index\")"
   ]
  },
  {
   "cell_type": "code",
   "execution_count": null,
   "metadata": {},
   "outputs": [],
   "source": [
    "api_url_cnbs = api_url.loc[\"CNBS\"].URL\n",
    "api_url_cnbs"
   ]
  },
  {
   "cell_type": "code",
   "execution_count": null,
   "metadata": {},
   "outputs": [],
   "source": [
    "time.strftime(\"%Y-%m-%d\")"
   ]
  },
  {
   "cell_type": "code",
   "execution_count": null,
   "metadata": {
    "collapsed": true
   },
   "outputs": [],
   "source": [
    "# Create custom authentication for Exchange\n",
    "class CNBSExchangeAuth(AuthBase):\n",
    "    def __init__(self, exchange):\n",
    "        self.api_key = api_cred.loc[exchange].KEY\n",
    "        self.secret_key = api_cred.loc[exchange].SECRET\n",
    "\n",
    "    def __call__(self, request):\n",
    "        timestamp = str(time.time())\n",
    "        hmac_key = base64.b64decode(self.secret_key)\n",
    "        message = timestamp + request.method + request.path_url + (request.body or '')\n",
    "        signature = hmac.new(hmac_key, message.encode('utf-8'), hashlib.sha256)\n",
    "        digest = signature.digest()\n",
    "        signature_b64 = base64.b64encode(digest).decode('utf-8').rstrip('\\n')\n",
    "        \n",
    "        current_date_version = (time.strftime(\"%Y-%m-%d\"))\n",
    "\n",
    "        request.headers.update({\n",
    "          'CB-ACCESS-SIGN': signature_b64,\n",
    "          'CB-ACCESS-TIMESTAMP': timestamp,\n",
    "          'CB-ACCESS-KEY': self.api_key,\n",
    "          'CB-VERSION': '2017-09-01',\n",
    "          'Content-type': 'application/json' # <- this was missing\n",
    "        })\n",
    "        return request"
   ]
  },
  {
   "cell_type": "code",
   "execution_count": null,
   "metadata": {},
   "outputs": [],
   "source": [
    "auth = CNBSExchangeAuth(exchange=\"CNBS\")\n",
    "auth"
   ]
  },
  {
   "cell_type": "code",
   "execution_count": null,
   "metadata": {},
   "outputs": [],
   "source": [
    "# Get accounts\n",
    "balance_data = requests.get(api_url_cnbs + 'user', auth=auth)\n",
    "print(balance_data)\n",
    "balance_data = balance_data.json()\n",
    "# balance_data = pd.DataFrame(balance_data)\n",
    "# balance_data.drop(\"profile_id\", axis=1, inplace=True)\n",
    "# balance_data[\"product_id\"] = balance_data.currency+\"-USD\"\n",
    "# balance_data.balance = pd.to_numeric(balance_data.balance)\n",
    "balance_data"
   ]
  }
 ],
 "metadata": {
  "kernelspec": {
   "display_name": "Python 3",
   "language": "python",
   "name": "python3"
  },
  "language_info": {
   "codemirror_mode": {
    "name": "ipython",
    "version": 3
   },
   "file_extension": ".py",
   "mimetype": "text/x-python",
   "name": "python",
   "nbconvert_exporter": "python",
   "pygments_lexer": "ipython3",
   "version": "3.6.2"
  },
  "toc": {
   "colors": {
    "hover_highlight": "#DAA520",
    "navigate_num": "#000000",
    "navigate_text": "#333333",
    "running_highlight": "#FF0000",
    "selected_highlight": "#FFD700",
    "sidebar_border": "#EEEEEE",
    "wrapper_background": "#FFFFFF"
   },
   "moveMenuLeft": true,
   "nav_menu": {
    "height": "47px",
    "width": "252px"
   },
   "navigate_menu": true,
   "number_sections": true,
   "sideBar": true,
   "threshold": "6",
   "toc_cell": true,
   "toc_section_display": "block",
   "toc_window_display": false,
   "widenNotebook": false
  }
 },
 "nbformat": 4,
 "nbformat_minor": 2
}
