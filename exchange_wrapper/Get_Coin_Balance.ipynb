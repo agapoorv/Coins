{
 "cells": [
  {
   "cell_type": "markdown",
   "metadata": {
    "toc": "true"
   },
   "source": [
    "# Table of Contents\n",
    " <p><div class=\"lev2 toc-item\"><a href=\"#bitrex-code-wip\" data-toc-modified-id=\"bitrex-code-wip-01\"><span class=\"toc-item-num\">0.1&nbsp;&nbsp;</span>bitrex code wip</a></div>"
   ]
  },
  {
   "cell_type": "code",
   "execution_count": null,
   "metadata": {
    "collapsed": true
   },
   "outputs": [],
   "source": [
    "import json\n",
    "import hmac\n",
    "import time\n",
    "import base64\n",
    "import urllib3\n",
    "import hashlib\n",
    "import requests\n",
    "import pandas as pd\n",
    "from requests.auth import AuthBase"
   ]
  },
  {
   "cell_type": "code",
   "execution_count": null,
   "metadata": {
    "collapsed": true
   },
   "outputs": [],
   "source": [
    "api_cred = pd.read_json(\"../API_KEYS/api_keys.json\", orient= \"index\")\n",
    "api_url = pd.read_json(\"../API_KEYS/api_url.json\", orient= \"index\")"
   ]
  },
  {
   "cell_type": "code",
   "execution_count": null,
   "metadata": {},
   "outputs": [],
   "source": [
    "api_url_gdax = api_url.loc[\"GDAX\"].URL\n",
    "api_url_gdax"
   ]
  },
  {
   "cell_type": "code",
   "execution_count": null,
   "metadata": {
    "collapsed": true
   },
   "outputs": [],
   "source": [
    "# Create custom authentication for Exchange\n",
    "class GDAXExchangeAuth(AuthBase):\n",
    "    def __init__(self, exchange):\n",
    "        self.api_key = api_cred.loc[exchange].KEY\n",
    "        self.secret_key = api_cred.loc[exchange].SECRET\n",
    "        self.passphrase = api_cred.loc[exchange].PASSPHRASE\n",
    "\n",
    "    def __call__(self, request):\n",
    "        timestamp = str(time.time())\n",
    "        message = timestamp + request.method + request.path_url + (request.body or '')\n",
    "        hmac_key = base64.b64decode(self.secret_key)\n",
    "        signature = hmac.new(hmac_key, message.encode('utf-8'), hashlib.sha256)\n",
    "        digest = signature.digest()\n",
    "        signature_b64 = base64.b64encode(digest).decode('utf-8').rstrip('\\n')\n",
    "\n",
    "        request.headers.update({\n",
    "            'CB-ACCESS-SIGN': signature_b64,\n",
    "            'CB-ACCESS-TIMESTAMP': timestamp,\n",
    "            'CB-ACCESS-KEY': self.api_key,\n",
    "            'CB-ACCESS-PASSPHRASE': self.passphrase,\n",
    "            'Content-Type': 'application/json'\n",
    "        })\n",
    "        return request"
   ]
  },
  {
   "cell_type": "code",
   "execution_count": null,
   "metadata": {},
   "outputs": [],
   "source": [
    "auth = GDAXExchangeAuth(exchange=\"GDAX\")\n",
    "auth"
   ]
  },
  {
   "cell_type": "code",
   "execution_count": null,
   "metadata": {},
   "outputs": [],
   "source": [
    "# Get accounts\n",
    "balance_data = requests.get(api_url_gdax + 'accounts', auth=auth)\n",
    "balance_data = balance_data.json()\n",
    "balance_data = pd.DataFrame(balance_data)\n",
    "balance_data"
   ]
  },
  {
   "cell_type": "code",
   "execution_count": null,
   "metadata": {},
   "outputs": [],
   "source": [
    "for acct in balance_data.id:\n",
    "    account = 'accounts/'+ acct +'/ledger'\n",
    "    acct_hist = requests.get(api_url_gdax + account, auth=auth)\n",
    "    temp = acct_hist.json()\n",
    "    temp = pd.DataFrame(temp)\n",
    "    temp.replace({r'\\n': ''}, regex=True)\n",
    "    print(temp)"
   ]
  },
  {
   "cell_type": "markdown",
   "metadata": {},
   "source": [
    "## bitrex code wip"
   ]
  },
  {
   "cell_type": "code",
   "execution_count": null,
   "metadata": {},
   "outputs": [],
   "source": [
    "api_url_btrx = api_url.loc[\"BTRX\"].URL\n",
    "api_url_btrx"
   ]
  },
  {
   "cell_type": "code",
   "execution_count": null,
   "metadata": {
    "collapsed": true
   },
   "outputs": [],
   "source": [
    "MARKET_SET = {\n",
    "    'getopenorders',\n",
    "    'cancel',\n",
    "    'sellmarket',\n",
    "    'selllimit',\n",
    "    'buymarket',\n",
    "    'buylimit'\n",
    "}\n",
    "\n",
    "ACCOUNT_SET = {\n",
    "    'getbalances',\n",
    "    'getbalance',\n",
    "    'getdepositaddress',\n",
    "    'withdraw',\n",
    "    'getorderhistory',\n",
    "    'getorder',\n",
    "    'getdeposithistory',\n",
    "    'getwithdrawalhistory'\n",
    "}\n",
    "\n",
    "BUY_ORDERBOOK = 'buy'\n",
    "SELL_ORDERBOOK = 'sell'\n",
    "BOTH_ORDERBOOK = 'both'"
   ]
  },
  {
   "cell_type": "code",
   "execution_count": null,
   "metadata": {
    "collapsed": true
   },
   "outputs": [],
   "source": [
    "def using_requests(request_url, apisign):\n",
    "    return requests.get(\n",
    "                request_url,\n",
    "                headers={\"apisign\": apisign}\n",
    "            ).json()"
   ]
  },
  {
   "cell_type": "code",
   "execution_count": null,
   "metadata": {
    "collapsed": true
   },
   "outputs": [],
   "source": [
    "class BTRXExchangeAuth(AuthBase):\n",
    "    \"\"\"\n",
    "    Used for requesting Bittrex with API key and API secret\n",
    "    \"\"\"\n",
    "    def __init__(self, exchange):\n",
    "        self.api_key = api_cred.loc[exchange].KEY\n",
    "        self.secret_key = api_cred.loc[exchange].SECRET\n",
    "        self.passphrase = api_cred.loc[exchange].PASSPHRASE\n",
    "#         self.dispatch = dispatch\n",
    "\n",
    "\n",
    "#     def api_query(self, method):\n",
    "#         \"\"\"\n",
    "#         Queries Bittrex with given method and options\n",
    "#         :param method: Query method for getting info\n",
    "#         :type method: str\n",
    "#         :param options: Extra options for query\n",
    "#         :type options: dict\n",
    "#         :return: JSON response from Bittrex\n",
    "#         :rtype : dict\n",
    "#         \"\"\"\n",
    "#         nonce = str(int(time.time() * 1000))\n",
    "#         method_set = 'public'\n",
    "\n",
    "#         if method in MARKET_SET:\n",
    "#             method_set = 'market'\n",
    "#         elif method in ACCOUNT_SET:\n",
    "#             method_set = 'account'\n",
    "\n",
    "#         request_url = (api_url % method_set) + method + '?'\n",
    "\n",
    "#         if method_set != 'public':\n",
    "#             request_url += 'apikey=' + self.api_key + \"&nonce=\" + nonce + '&'\n",
    "\n",
    "#         apisign = hmac.new(self.api_secret.encode(),\n",
    "#                            request_url.encode(),\n",
    "#                            hashlib.sha512).hexdigest()\n",
    "#         return self.dispatch(request_url, apisign)\n",
    "\n",
    "#     def get_markets(self):\n",
    "#         \"\"\"\n",
    "#         Used to get the open and available trading markets\n",
    "#         at Bittrex along with other meta data.\n",
    "#         :return: Available market info in JSON\n",
    "#         :rtype : dict\n",
    "#         \"\"\"\n",
    "#         return self.api_query('getmarkets')\n",
    "    \n",
    "    def __call__(self, request):\n",
    "#         nonce = str(int(time.time() * 1000))       \n",
    "#         hmac_key = base64.b64decode(self.secret_key)\n",
    "#         request_url_encode = base64.b64decode(request_url)\n",
    "        timestamp = str(time.time())\n",
    "        message = timestamp + request.method + request.path_url + (request.body or '')\n",
    "        hmac_key = base64.b64decode(self.secret_key)\n",
    "        signature = hmac.new(hmac_key, message.encode('utf-8'), hashlib.sha256)\n",
    "        digest = signature.digest()\n",
    "        signature_b64 = base64.b64encode(digest).decode('utf-8').rstrip('\\n')\n",
    "        \n",
    "#         apisign = hmac.new(\n",
    "#             hmac_key,\n",
    "#             request_url_encode,\n",
    "#             hashlib.sha512\n",
    "#             ).hexdigest()\n",
    "        apisign = signature_b64\n",
    "\n",
    "        return apisign"
   ]
  },
  {
   "cell_type": "code",
   "execution_count": null,
   "metadata": {},
   "outputs": [],
   "source": [
    "auth = BTRXExchangeAuth(exchange=\"BTRX\")\n",
    "auth"
   ]
  },
  {
   "cell_type": "code",
   "execution_count": null,
   "metadata": {},
   "outputs": [],
   "source": [
    "api_url_btrx = api_url.loc[\"BTRX\"].URL\n",
    "api_url_btrx"
   ]
  },
  {
   "cell_type": "code",
   "execution_count": null,
   "metadata": {},
   "outputs": [],
   "source": [
    "api_url = api_url_btrx + \"market\" + \"/\" + \"getopenorders/\"\n",
    "api_url"
   ]
  },
  {
   "cell_type": "code",
   "execution_count": null,
   "metadata": {},
   "outputs": [],
   "source": [
    "x = requests.get(api_url, auth)\n",
    "x"
   ]
  },
  {
   "cell_type": "code",
   "execution_count": null,
   "metadata": {
    "collapsed": true
   },
   "outputs": [],
   "source": []
  }
 ],
 "metadata": {
  "kernelspec": {
   "display_name": "Python 3",
   "language": "python",
   "name": "python3"
  },
  "language_info": {
   "codemirror_mode": {
    "name": "ipython",
    "version": 3
   },
   "file_extension": ".py",
   "mimetype": "text/x-python",
   "name": "python",
   "nbconvert_exporter": "python",
   "pygments_lexer": "ipython3",
   "version": "3.6.2"
  },
  "toc": {
   "colors": {
    "hover_highlight": "#DAA520",
    "navigate_num": "#000000",
    "navigate_text": "#333333",
    "running_highlight": "#FF0000",
    "selected_highlight": "#FFD700",
    "sidebar_border": "#EEEEEE",
    "wrapper_background": "#FFFFFF"
   },
   "moveMenuLeft": true,
   "nav_menu": {
    "height": "47px",
    "width": "252px"
   },
   "navigate_menu": true,
   "number_sections": true,
   "sideBar": true,
   "threshold": "6",
   "toc_cell": true,
   "toc_section_display": "block",
   "toc_window_display": false,
   "widenNotebook": false
  }
 },
 "nbformat": 4,
 "nbformat_minor": 2
}
