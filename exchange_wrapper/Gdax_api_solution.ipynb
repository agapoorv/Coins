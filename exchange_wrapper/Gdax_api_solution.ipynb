{
 "cells": [
  {
   "cell_type": "code",
   "execution_count": null,
   "metadata": {
    "collapsed": true
   },
   "outputs": [],
   "source": [
    "import json\n",
    "import hmac\n",
    "import time\n",
    "import base64\n",
    "import urllib3\n",
    "import hashlib\n",
    "import requests\n",
    "import pandas as pd\n",
    "from requests.auth import AuthBase"
   ]
  },
  {
   "cell_type": "code",
   "execution_count": null,
   "metadata": {
    "collapsed": true
   },
   "outputs": [],
   "source": [
    "api_cred = pd.read_json(\"../API_KEYS/api_keys.json\", orient= \"index\")\n",
    "api_url = pd.read_json(\"../API_KEYS/api_url.json\", orient= \"index\")"
   ]
  },
  {
   "cell_type": "code",
   "execution_count": null,
   "metadata": {},
   "outputs": [],
   "source": [
    "api_url_gdax = api_url.loc[\"GDAX\"].URL"
   ]
  },
  {
   "cell_type": "code",
   "execution_count": null,
   "metadata": {
    "collapsed": true
   },
   "outputs": [],
   "source": [
    "# Create custom authentication for Exchange\n",
    "class GDAXExchangeAuth(AuthBase):\n",
    "    def __init__(self, exchange):\n",
    "        self.api_key = api_cred.loc[exchange].KEY\n",
    "        self.secret_key = api_cred.loc[exchange].SECRET\n",
    "        self.passphrase = api_cred.loc[exchange].PASSPHRASE\n",
    "\n",
    "    def __call__(self, request):\n",
    "        timestamp = str(time.time())\n",
    "        message = timestamp + request.method + request.path_url + (request.body or '')\n",
    "        hmac_key = base64.b64decode(self.secret_key)\n",
    "        signature = hmac.new(hmac_key, message.encode('utf-8'), hashlib.sha256)\n",
    "        digest = signature.digest()\n",
    "        signature_b64 = base64.b64encode(digest).decode('utf-8').rstrip('\\n')\n",
    "\n",
    "        request.headers.update({\n",
    "            'CB-ACCESS-SIGN': signature_b64,\n",
    "            'CB-ACCESS-TIMESTAMP': timestamp,\n",
    "            'CB-ACCESS-KEY': self.api_key,\n",
    "            'CB-ACCESS-PASSPHRASE': self.passphrase,\n",
    "            'Content-Type': 'application/json'\n",
    "        })\n",
    "        return request"
   ]
  },
  {
   "cell_type": "code",
   "execution_count": null,
   "metadata": {},
   "outputs": [],
   "source": [
    "auth = GDAXExchangeAuth(exchange=\"GDAX\")\n",
    "auth"
   ]
  },
  {
   "cell_type": "code",
   "execution_count": null,
   "metadata": {},
   "outputs": [],
   "source": [
    "# Get accounts\n",
    "balance_data = requests.get(api_url_gdax + 'accounts', auth=auth)\n",
    "balance_data = balance_data.json()\n",
    "balance_data = pd.DataFrame(balance_data)\n",
    "balance_data.drop(\"profile_id\", axis=1, inplace=True)\n",
    "balance_data[\"product_id\"] = balance_data.currency+\"-USD\"\n",
    "balance_data.balance = pd.to_numeric(balance_data.balance)\n",
    "balance_data"
   ]
  },
  {
   "cell_type": "code",
   "execution_count": null,
   "metadata": {},
   "outputs": [],
   "source": [
    "type(balance_data.balance)"
   ]
  },
  {
   "cell_type": "code",
   "execution_count": null,
   "metadata": {},
   "outputs": [],
   "source": [
    "balance_data.balance.dtype"
   ]
  },
  {
   "cell_type": "code",
   "execution_count": null,
   "metadata": {},
   "outputs": [],
   "source": [
    "account_history = []\n",
    "\n",
    "for acct in balance_data.id:\n",
    "    account = 'accounts/'+ acct +'/ledger'\n",
    "    acct_hist = requests.get(api_url_gdax + account, auth=auth)\n",
    "    temp = acct_hist.json()\n",
    "    temp = pd.DataFrame(temp)\n",
    "    # to split the dict at \"details\" and convert it to columns\n",
    "    temp = pd.concat([temp.drop(['details'], axis=1), temp['details'].apply(pd.Series)], axis=1) \n",
    "    account_history.append(temp)\n",
    "\n",
    "account_history = pd.concat(account_history, axis=0)\n",
    "account_history = account_history.reset_index()\n",
    "account_history.drop(\"index\", 1, inplace=True)\n",
    "account_history"
   ]
  },
  {
   "cell_type": "code",
   "execution_count": null,
   "metadata": {},
   "outputs": [],
   "source": [
    "msk = account_history.product_id.isnull()\n",
    "product_history = account_history[~msk]\n",
    "tranfer_history = account_history[msk]"
   ]
  },
  {
   "cell_type": "code",
   "execution_count": null,
   "metadata": {},
   "outputs": [],
   "source": [
    "tranfer_history"
   ]
  },
  {
   "cell_type": "code",
   "execution_count": null,
   "metadata": {},
   "outputs": [],
   "source": [
    "# get latest price for a product\n",
    "product_price = []\n",
    "for prdct in product_history.product_id.unique():\n",
    "    url = api_url_gdax+\"products/\"+ prdct + \"/ticker\"\n",
    "    ticker_info = requests.get(url, auth = auth)\n",
    "    ticker = ticker_info.json()\n",
    "    ticker = pd.DataFrame(ticker, index=[0])\n",
    "    ticker[\"product_id\"] = prdct\n",
    "#     print(prdct, ticker)\n",
    "    product_price.append(ticker)\n",
    "    \n",
    "product_price = pd.concat(product_price)\n",
    "product_price = product_price.reset_index()"
   ]
  },
  {
   "cell_type": "code",
   "execution_count": null,
   "metadata": {},
   "outputs": [],
   "source": [
    "product_price"
   ]
  },
  {
   "cell_type": "code",
   "execution_count": null,
   "metadata": {},
   "outputs": [],
   "source": [
    "portfolio = balance_data.join(product_price.set_index('product_id'), on = 'product_id', how=\"left\")\n",
    "portfolio.bid = pd.to_numeric(portfolio.bid)"
   ]
  },
  {
   "cell_type": "code",
   "execution_count": null,
   "metadata": {},
   "outputs": [],
   "source": [
    "portfolio.bid.dtype"
   ]
  },
  {
   "cell_type": "code",
   "execution_count": null,
   "metadata": {},
   "outputs": [],
   "source": [
    "portfolio.balance.dtype"
   ]
  },
  {
   "cell_type": "code",
   "execution_count": null,
   "metadata": {},
   "outputs": [],
   "source": [
    "portfolio[\"curr_val\"] = portfolio.balance * portfolio.bid\n",
    "portfolio.curr_val.sum()"
   ]
  }
 ],
 "metadata": {
  "kernelspec": {
   "display_name": "Python 3",
   "language": "python",
   "name": "python3"
  },
  "language_info": {
   "codemirror_mode": {
    "name": "ipython",
    "version": 3
   },
   "file_extension": ".py",
   "mimetype": "text/x-python",
   "name": "python",
   "nbconvert_exporter": "python",
   "pygments_lexer": "ipython3",
   "version": "3.6.2"
  },
  "toc": {
   "colors": {
    "hover_highlight": "#DAA520",
    "navigate_num": "#000000",
    "navigate_text": "#333333",
    "running_highlight": "#FF0000",
    "selected_highlight": "#FFD700",
    "sidebar_border": "#EEEEEE",
    "wrapper_background": "#FFFFFF"
   },
   "moveMenuLeft": true,
   "nav_menu": {
    "height": "47px",
    "width": "252px"
   },
   "navigate_menu": true,
   "number_sections": true,
   "sideBar": true,
   "threshold": "6",
   "toc_cell": true,
   "toc_section_display": "block",
   "toc_window_display": false,
   "widenNotebook": false
  }
 },
 "nbformat": 4,
 "nbformat_minor": 2
}
