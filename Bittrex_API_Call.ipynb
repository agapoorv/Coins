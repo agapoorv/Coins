{
 "cells": [
  {
   "cell_type": "markdown",
   "metadata": {
    "toc": "true"
   },
   "source": [
    "# Table of Contents\n",
    " <p>"
   ]
  },
  {
   "cell_type": "code",
   "execution_count": 38,
   "metadata": {
    "collapsed": true
   },
   "outputs": [],
   "source": [
    "import json\n",
    "import hmac\n",
    "import time\n",
    "import base64\n",
    "import hashlib\n",
    "import requests\n",
    "import pandas as pd\n",
    "from requests.auth import AuthBase"
   ]
  },
  {
   "cell_type": "code",
   "execution_count": 41,
   "metadata": {
    "collapsed": true
   },
   "outputs": [],
   "source": [
    "PUBLIC = [\n",
    "    'getmarkets', \n",
    "    'getcurrencies', \n",
    "    'getticker', \n",
    "    'getmarketsummaries', \n",
    "    'getmarketsummary', \n",
    "    'getorderbook', \n",
    "    'getmarkethistory'\n",
    "]\n",
    "\n",
    "MARKET = [\n",
    "    'buylimit', \n",
    "    'buymarket', \n",
    "    'selllimit', \n",
    "    'sellmarket', \n",
    "    'cancel', \n",
    "    'getopenorders'\n",
    "]\n",
    "\n",
    "ACCOUNT = [\n",
    "    'getbalances', \n",
    "    'getbalance', \n",
    "    'getdepositaddress', \n",
    "    'withdraw', \n",
    "    'getorder', \n",
    "    'getorderhistory', \n",
    "    'getwithdrawalhistory', \n",
    "    'getdeposithistory'\n",
    "]"
   ]
  },
  {
   "cell_type": "code",
   "execution_count": null,
   "metadata": {
    "collapsed": true
   },
   "outputs": [],
   "source": [
    "class BittrexExchangeAuth(AuthBase):\n",
    "    def __init__(self, api_key, secret_key):\n",
    "        self.api_key = api_key\n",
    "        self.secret_key = secret_key\n",
    "        self.public = PUBLIC\n",
    "        self.market = MARKET\n",
    "        self.account = ACCOUNT\n",
    "    \n",
    "    def __call__(self, request):\n",
    "        timestamp = str(time.time())\n",
    "        message = timestamp + request.method + request.path_url + (request.body or '')\n",
    "        hmac_key = base64.b64decode(self.secret_key)\n",
    "        signature = hmac.new(hmac_key, message.encode('utf-8'), hashlib.sha256)\n",
    "        digest = signature.digest()\n",
    "        signature_b64 = base64.b64encode(digest).decode('utf-8').rstrip('\\n')\n",
    "\n",
    "        request.headers.update({\n",
    "            'CB-ACCESS-SIGN': signature_b64,\n",
    "            'CB-ACCESS-TIMESTAMP': timestamp,\n",
    "            'CB-ACCESS-KEY': self.api_key,\n",
    "            'CB-ACCESS-PASSPHRASE': self.passphrase,\n",
    "            'Content-Type': 'application/json'\n",
    "        })\n",
    "        return request"
   ]
  }
 ],
 "metadata": {
  "kernelspec": {
   "display_name": "Python 3",
   "language": "python",
   "name": "python3"
  },
  "language_info": {
   "codemirror_mode": {
    "name": "ipython",
    "version": 3
   },
   "file_extension": ".py",
   "mimetype": "text/x-python",
   "name": "python",
   "nbconvert_exporter": "python",
   "pygments_lexer": "ipython3",
   "version": "3.6.2"
  },
  "toc": {
   "colors": {
    "hover_highlight": "#DAA520",
    "navigate_num": "#000000",
    "navigate_text": "#333333",
    "running_highlight": "#FF0000",
    "selected_highlight": "#FFD700",
    "sidebar_border": "#EEEEEE",
    "wrapper_background": "#FFFFFF"
   },
   "moveMenuLeft": true,
   "nav_menu": {
    "height": "12px",
    "width": "252px"
   },
   "navigate_menu": true,
   "number_sections": true,
   "sideBar": true,
   "threshold": "6",
   "toc_cell": true,
   "toc_section_display": "block",
   "toc_window_display": false,
   "widenNotebook": false
  }
 },
 "nbformat": 4,
 "nbformat_minor": 2
}
