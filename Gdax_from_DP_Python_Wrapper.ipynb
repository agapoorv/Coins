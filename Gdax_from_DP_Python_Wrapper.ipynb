{
 "cells": [
  {
   "cell_type": "markdown",
   "metadata": {
    "toc": "true"
   },
   "source": [
    "# Table of Contents\n",
    " <p>"
   ]
  },
  {
   "cell_type": "code",
   "execution_count": 1,
   "metadata": {
    "collapsed": true
   },
   "outputs": [],
   "source": [
    "import gdax\n",
    "#from gdax import PublicClient\n",
    "import pandas as pd"
   ]
  },
  {
   "cell_type": "code",
   "execution_count": 3,
   "metadata": {
    "collapsed": true
   },
   "outputs": [],
   "source": [
    "public_client = gdax.PublicClient()"
   ]
  },
  {
   "cell_type": "code",
   "execution_count": 4,
   "metadata": {},
   "outputs": [
    {
     "data": {
      "text/html": [
       "<div>\n",
       "<style>\n",
       "    .dataframe thead tr:only-child th {\n",
       "        text-align: right;\n",
       "    }\n",
       "\n",
       "    .dataframe thead th {\n",
       "        text-align: left;\n",
       "    }\n",
       "\n",
       "    .dataframe tbody tr th {\n",
       "        vertical-align: top;\n",
       "    }\n",
       "</style>\n",
       "<table border=\"1\" class=\"dataframe\">\n",
       "  <thead>\n",
       "    <tr style=\"text-align: right;\">\n",
       "      <th></th>\n",
       "      <th>base_currency</th>\n",
       "      <th>base_max_size</th>\n",
       "      <th>base_min_size</th>\n",
       "      <th>display_name</th>\n",
       "      <th>id</th>\n",
       "      <th>margin_enabled</th>\n",
       "      <th>quote_currency</th>\n",
       "      <th>quote_increment</th>\n",
       "    </tr>\n",
       "  </thead>\n",
       "  <tbody>\n",
       "    <tr>\n",
       "      <th>0</th>\n",
       "      <td>LTC</td>\n",
       "      <td>1000000</td>\n",
       "      <td>0.01</td>\n",
       "      <td>LTC/EUR</td>\n",
       "      <td>LTC-EUR</td>\n",
       "      <td>False</td>\n",
       "      <td>EUR</td>\n",
       "      <td>0.01</td>\n",
       "    </tr>\n",
       "    <tr>\n",
       "      <th>1</th>\n",
       "      <td>LTC</td>\n",
       "      <td>1000000</td>\n",
       "      <td>0.01</td>\n",
       "      <td>LTC/BTC</td>\n",
       "      <td>LTC-BTC</td>\n",
       "      <td>False</td>\n",
       "      <td>BTC</td>\n",
       "      <td>0.00001</td>\n",
       "    </tr>\n",
       "    <tr>\n",
       "      <th>2</th>\n",
       "      <td>BTC</td>\n",
       "      <td>250</td>\n",
       "      <td>0.01</td>\n",
       "      <td>BTC/GBP</td>\n",
       "      <td>BTC-GBP</td>\n",
       "      <td>False</td>\n",
       "      <td>GBP</td>\n",
       "      <td>0.01</td>\n",
       "    </tr>\n",
       "    <tr>\n",
       "      <th>3</th>\n",
       "      <td>BTC</td>\n",
       "      <td>250</td>\n",
       "      <td>0.01</td>\n",
       "      <td>BTC/EUR</td>\n",
       "      <td>BTC-EUR</td>\n",
       "      <td>False</td>\n",
       "      <td>EUR</td>\n",
       "      <td>0.01</td>\n",
       "    </tr>\n",
       "    <tr>\n",
       "      <th>4</th>\n",
       "      <td>ETH</td>\n",
       "      <td>5000</td>\n",
       "      <td>0.01</td>\n",
       "      <td>ETH/EUR</td>\n",
       "      <td>ETH-EUR</td>\n",
       "      <td>False</td>\n",
       "      <td>EUR</td>\n",
       "      <td>0.01</td>\n",
       "    </tr>\n",
       "    <tr>\n",
       "      <th>5</th>\n",
       "      <td>ETH</td>\n",
       "      <td>5000</td>\n",
       "      <td>0.01</td>\n",
       "      <td>ETH/BTC</td>\n",
       "      <td>ETH-BTC</td>\n",
       "      <td>False</td>\n",
       "      <td>BTC</td>\n",
       "      <td>0.00001</td>\n",
       "    </tr>\n",
       "    <tr>\n",
       "      <th>6</th>\n",
       "      <td>LTC</td>\n",
       "      <td>1000000</td>\n",
       "      <td>0.01</td>\n",
       "      <td>LTC/USD</td>\n",
       "      <td>LTC-USD</td>\n",
       "      <td>False</td>\n",
       "      <td>USD</td>\n",
       "      <td>0.01</td>\n",
       "    </tr>\n",
       "    <tr>\n",
       "      <th>7</th>\n",
       "      <td>BTC</td>\n",
       "      <td>250</td>\n",
       "      <td>0.01</td>\n",
       "      <td>BTC/USD</td>\n",
       "      <td>BTC-USD</td>\n",
       "      <td>False</td>\n",
       "      <td>USD</td>\n",
       "      <td>0.01</td>\n",
       "    </tr>\n",
       "    <tr>\n",
       "      <th>8</th>\n",
       "      <td>ETH</td>\n",
       "      <td>5000</td>\n",
       "      <td>0.01</td>\n",
       "      <td>ETH/USD</td>\n",
       "      <td>ETH-USD</td>\n",
       "      <td>False</td>\n",
       "      <td>USD</td>\n",
       "      <td>0.01</td>\n",
       "    </tr>\n",
       "  </tbody>\n",
       "</table>\n",
       "</div>"
      ],
      "text/plain": [
       "  base_currency base_max_size base_min_size display_name       id  \\\n",
       "0           LTC       1000000          0.01      LTC/EUR  LTC-EUR   \n",
       "1           LTC       1000000          0.01      LTC/BTC  LTC-BTC   \n",
       "2           BTC           250          0.01      BTC/GBP  BTC-GBP   \n",
       "3           BTC           250          0.01      BTC/EUR  BTC-EUR   \n",
       "4           ETH          5000          0.01      ETH/EUR  ETH-EUR   \n",
       "5           ETH          5000          0.01      ETH/BTC  ETH-BTC   \n",
       "6           LTC       1000000          0.01      LTC/USD  LTC-USD   \n",
       "7           BTC           250          0.01      BTC/USD  BTC-USD   \n",
       "8           ETH          5000          0.01      ETH/USD  ETH-USD   \n",
       "\n",
       "   margin_enabled quote_currency quote_increment  \n",
       "0           False            EUR            0.01  \n",
       "1           False            BTC         0.00001  \n",
       "2           False            GBP            0.01  \n",
       "3           False            EUR            0.01  \n",
       "4           False            EUR            0.01  \n",
       "5           False            BTC         0.00001  \n",
       "6           False            USD            0.01  \n",
       "7           False            USD            0.01  \n",
       "8           False            USD            0.01  "
      ]
     },
     "execution_count": 4,
     "metadata": {},
     "output_type": "execute_result"
    }
   ],
   "source": [
    "# PublicClient().get_products() \n",
    "gdax_products = public_client.get_products()\n",
    "gdax_products = pd.DataFrame(gdax_products)\n",
    "gdax_products"
   ]
  },
  {
   "cell_type": "code",
   "execution_count": 5,
   "metadata": {},
   "outputs": [
    {
     "name": "stdout",
     "output_type": "stream",
     "text": [
      "{'sequence': 167884474, 'bids': [['38.5', '9.75826188', 2]], 'asks': [['38.53', '0.01921785', 1]]}\n",
      "{'sequence': 190558080, 'bids': [['0.01096', '0.020012', 1]], 'asks': [['0.01097', '1.012436', 2]]}\n",
      "{'sequence': 1092978834, 'bids': [['3215.01', '0.431', 2]], 'asks': [['3217.69', '0.30641629', 1]]}\n",
      "{'sequence': 2335235802, 'bids': [['3524', '0.5', 1]], 'asks': [['3524.8', '0.09', 2]]}\n",
      "{'sequence': 225538152, 'bids': [['251', '18.06563068', 2]], 'asks': [['251.42', '0.00000026', 1]]}\n",
      "{'sequence': 470531041, 'bids': [['0.07091', '0.64138392', 3]], 'asks': [['0.07092', '0.00000043', 1]]}\n",
      "{'sequence': 421808399, 'bids': [['45.11', '1.34188', 2]], 'asks': [['45.12', '15.34943794', 3]]}\n",
      "{'sequence': 3862107872, 'bids': [['4111.13', '9.65757812', 20]], 'asks': [['4111.14', '605.3887892', 15]]}\n",
      "{'sequence': 1013563537, 'bids': [['293.6', '10.9465081', 4]], 'asks': [['293.61', '421.04380569', 26]]}\n"
     ]
    }
   ],
   "source": [
    "for product_id in gdax_products.id:\n",
    "    order_book = public_client.get_product_order_book(product_id, level=1)\n",
    "#     order_book = pd.DataFrame(order_book)\n",
    "    print(order_book)"
   ]
  },
  {
   "cell_type": "code",
   "execution_count": 6,
   "metadata": {},
   "outputs": [
    {
     "data": {
      "text/plain": [
       "[{'id': 'BTC', 'min_size': '0.00000001', 'name': 'Bitcoin'},\n",
       " {'id': 'EUR', 'min_size': '0.01000000', 'name': 'Euro'},\n",
       " {'id': 'LTC', 'min_size': '0.00000001', 'name': 'Litecoin'},\n",
       " {'id': 'GBP', 'min_size': '0.01000000', 'name': 'British Pound'},\n",
       " {'id': 'USD', 'min_size': '0.01000000', 'name': 'United States Dollar'},\n",
       " {'id': 'ETH', 'min_size': '0.00000001', 'name': 'Ether'}]"
      ]
     },
     "execution_count": 6,
     "metadata": {},
     "output_type": "execute_result"
    }
   ],
   "source": [
    "public_client.get_currencies()"
   ]
  },
  {
   "cell_type": "code",
   "execution_count": 7,
   "metadata": {
    "collapsed": true
   },
   "outputs": [],
   "source": [
    "auth_client = gdax.AuthenticatedClient(API_KEY, API_SECRET, API_PASS)"
   ]
  },
  {
   "cell_type": "code",
   "execution_count": 8,
   "metadata": {},
   "outputs": [
    {
     "data": {
      "text/html": [
       "<div>\n",
       "<style>\n",
       "    .dataframe thead tr:only-child th {\n",
       "        text-align: right;\n",
       "    }\n",
       "\n",
       "    .dataframe thead th {\n",
       "        text-align: left;\n",
       "    }\n",
       "\n",
       "    .dataframe tbody tr th {\n",
       "        vertical-align: top;\n",
       "    }\n",
       "</style>\n",
       "<table border=\"1\" class=\"dataframe\">\n",
       "  <thead>\n",
       "    <tr style=\"text-align: right;\">\n",
       "      <th></th>\n",
       "      <th>available</th>\n",
       "      <th>balance</th>\n",
       "      <th>currency</th>\n",
       "      <th>hold</th>\n",
       "      <th>id</th>\n",
       "      <th>profile_id</th>\n",
       "    </tr>\n",
       "  </thead>\n",
       "  <tbody>\n",
       "    <tr>\n",
       "      <th>0</th>\n",
       "      <td>1500.0000000000000000</td>\n",
       "      <td>1500.0000000000000000</td>\n",
       "      <td>USD</td>\n",
       "      <td>0.0000000000000000</td>\n",
       "      <td>2fb55e27-276a-4f99-b2b7-127729949d1c</td>\n",
       "      <td>6c33d3ef-deba-4eab-8e2c-d6213b4c100d</td>\n",
       "    </tr>\n",
       "    <tr>\n",
       "      <th>1</th>\n",
       "      <td>0.0000000000000000</td>\n",
       "      <td>0.0000000000000000</td>\n",
       "      <td>LTC</td>\n",
       "      <td>0.0000000000000000</td>\n",
       "      <td>2f00df30-58fa-42c9-85ff-1c81bd48198e</td>\n",
       "      <td>6c33d3ef-deba-4eab-8e2c-d6213b4c100d</td>\n",
       "    </tr>\n",
       "    <tr>\n",
       "      <th>2</th>\n",
       "      <td>0.0000000000000000</td>\n",
       "      <td>0.0000000000000000</td>\n",
       "      <td>ETH</td>\n",
       "      <td>0.0000000000000000</td>\n",
       "      <td>a71932e3-66cd-41d4-bb6f-010e061fb44a</td>\n",
       "      <td>6c33d3ef-deba-4eab-8e2c-d6213b4c100d</td>\n",
       "    </tr>\n",
       "    <tr>\n",
       "      <th>3</th>\n",
       "      <td>0.0000000000000000</td>\n",
       "      <td>0.0000000000000000</td>\n",
       "      <td>BTC</td>\n",
       "      <td>0.0000000000000000</td>\n",
       "      <td>1205713f-4d84-46e1-b385-12e268600193</td>\n",
       "      <td>6c33d3ef-deba-4eab-8e2c-d6213b4c100d</td>\n",
       "    </tr>\n",
       "  </tbody>\n",
       "</table>\n",
       "</div>"
      ],
      "text/plain": [
       "               available                balance currency                hold  \\\n",
       "0  1500.0000000000000000  1500.0000000000000000      USD  0.0000000000000000   \n",
       "1     0.0000000000000000     0.0000000000000000      LTC  0.0000000000000000   \n",
       "2     0.0000000000000000     0.0000000000000000      ETH  0.0000000000000000   \n",
       "3     0.0000000000000000     0.0000000000000000      BTC  0.0000000000000000   \n",
       "\n",
       "                                     id                            profile_id  \n",
       "0  2fb55e27-276a-4f99-b2b7-127729949d1c  6c33d3ef-deba-4eab-8e2c-d6213b4c100d  \n",
       "1  2f00df30-58fa-42c9-85ff-1c81bd48198e  6c33d3ef-deba-4eab-8e2c-d6213b4c100d  \n",
       "2  a71932e3-66cd-41d4-bb6f-010e061fb44a  6c33d3ef-deba-4eab-8e2c-d6213b4c100d  \n",
       "3  1205713f-4d84-46e1-b385-12e268600193  6c33d3ef-deba-4eab-8e2c-d6213b4c100d  "
      ]
     },
     "execution_count": 8,
     "metadata": {},
     "output_type": "execute_result"
    }
   ],
   "source": [
    "accounts = auth_client.get_accounts()\n",
    "pd.DataFrame(accounts)"
   ]
  },
  {
   "cell_type": "code",
   "execution_count": 9,
   "metadata": {},
   "outputs": [
    {
     "data": {
      "text/plain": [
       "[[]]"
      ]
     },
     "execution_count": 9,
     "metadata": {},
     "output_type": "execute_result"
    }
   ],
   "source": [
    "auth_client.get_account_history(\"2f00df30-58fa-42c9-85ff-1c81bd48198e\")"
   ]
  },
  {
   "cell_type": "code",
   "execution_count": null,
   "metadata": {
    "collapsed": true
   },
   "outputs": [],
   "source": []
  }
 ],
 "metadata": {
  "kernelspec": {
   "display_name": "Python 3",
   "language": "python",
   "name": "python3"
  },
  "language_info": {
   "codemirror_mode": {
    "name": "ipython",
    "version": 3
   },
   "file_extension": ".py",
   "mimetype": "text/x-python",
   "name": "python",
   "nbconvert_exporter": "python",
   "pygments_lexer": "ipython3",
   "version": "3.6.2"
  },
  "toc": {
   "colors": {
    "hover_highlight": "#DAA520",
    "navigate_num": "#000000",
    "navigate_text": "#333333",
    "running_highlight": "#FF0000",
    "selected_highlight": "#FFD700",
    "sidebar_border": "#EEEEEE",
    "wrapper_background": "#FFFFFF"
   },
   "moveMenuLeft": true,
   "nav_menu": {
    "height": "12px",
    "width": "252px"
   },
   "navigate_menu": true,
   "number_sections": true,
   "sideBar": true,
   "threshold": "6",
   "toc_cell": true,
   "toc_section_display": "block",
   "toc_window_display": false,
   "widenNotebook": false
  }
 },
 "nbformat": 4,
 "nbformat_minor": 2
}
